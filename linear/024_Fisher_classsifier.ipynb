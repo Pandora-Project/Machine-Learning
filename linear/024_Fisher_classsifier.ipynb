{
 "cells": [
  {
   "cell_type": "markdown",
   "metadata": {},
   "source": [
    "# Fisher classifier\n",
    "\n",
    "The Fisher classifier use the linear discriminant analysis to classify the object into a class. The main idea of this classifier is to use the LDA to reduce the dimensionality and classify on the reduced feature space. In this notebook we use the Iris dataset to show how it works."
   ]
  },
  {
   "cell_type": "code",
   "execution_count": 2,
   "metadata": {},
   "outputs": [
    {
     "data": {
      "text/html": [
       "<div>\n",
       "<style scoped>\n",
       "    .dataframe tbody tr th:only-of-type {\n",
       "        vertical-align: middle;\n",
       "    }\n",
       "\n",
       "    .dataframe tbody tr th {\n",
       "        vertical-align: top;\n",
       "    }\n",
       "\n",
       "    .dataframe thead th {\n",
       "        text-align: right;\n",
       "    }\n",
       "</style>\n",
       "<table border=\"1\" class=\"dataframe\">\n",
       "  <thead>\n",
       "    <tr style=\"text-align: right;\">\n",
       "      <th></th>\n",
       "      <th>sepal length (cm)</th>\n",
       "      <th>sepal width (cm)</th>\n",
       "      <th>petal length (cm)</th>\n",
       "      <th>petal width (cm)</th>\n",
       "    </tr>\n",
       "  </thead>\n",
       "  <tbody>\n",
       "    <tr>\n",
       "      <th>0</th>\n",
       "      <td>5.1</td>\n",
       "      <td>3.5</td>\n",
       "      <td>1.4</td>\n",
       "      <td>0.2</td>\n",
       "    </tr>\n",
       "    <tr>\n",
       "      <th>1</th>\n",
       "      <td>4.9</td>\n",
       "      <td>3.0</td>\n",
       "      <td>1.4</td>\n",
       "      <td>0.2</td>\n",
       "    </tr>\n",
       "    <tr>\n",
       "      <th>2</th>\n",
       "      <td>4.7</td>\n",
       "      <td>3.2</td>\n",
       "      <td>1.3</td>\n",
       "      <td>0.2</td>\n",
       "    </tr>\n",
       "    <tr>\n",
       "      <th>3</th>\n",
       "      <td>4.6</td>\n",
       "      <td>3.1</td>\n",
       "      <td>1.5</td>\n",
       "      <td>0.2</td>\n",
       "    </tr>\n",
       "    <tr>\n",
       "      <th>4</th>\n",
       "      <td>5.0</td>\n",
       "      <td>3.6</td>\n",
       "      <td>1.4</td>\n",
       "      <td>0.2</td>\n",
       "    </tr>\n",
       "  </tbody>\n",
       "</table>\n",
       "</div>"
      ],
      "text/plain": [
       "   sepal length (cm)  sepal width (cm)  petal length (cm)  petal width (cm)\n",
       "0                5.1               3.5                1.4               0.2\n",
       "1                4.9               3.0                1.4               0.2\n",
       "2                4.7               3.2                1.3               0.2\n",
       "3                4.6               3.1                1.5               0.2\n",
       "4                5.0               3.6                1.4               0.2"
      ]
     },
     "execution_count": 2,
     "metadata": {},
     "output_type": "execute_result"
    }
   ],
   "source": [
    "import pandas as pd\n",
    "import numpy as np\n",
    "import matplotlib.pyplot as plt\n",
    "from sklearn.datasets import load_iris\n",
    "\n",
    "# Loading the dataset with pandas\n",
    "iris_data = load_iris()\n",
    "iris_df = pd.DataFrame(iris_data.data,columns=iris_data.feature_names)\n",
    "iris_df.head()"
   ]
  },
  {
   "cell_type": "markdown",
   "metadata": {},
   "source": [
    "We can easily"
   ]
  },
  {
   "cell_type": "code",
   "execution_count": 3,
   "metadata": {},
   "outputs": [
    {
     "name": "stdout",
     "output_type": "stream",
     "text": [
      "[0]\n"
     ]
    }
   ],
   "source": [
    "from sklearn.discriminant_analysis import LinearDiscriminantAnalysis\n",
    "\n",
    "x = iris_df[['sepal width (cm)','sepal length (cm)']].values.reshape(-1, 2)\n",
    "\n",
    "clf = LinearDiscriminantAnalysis()\n",
    "clf.fit(x,iris_data.target)\n",
    "LinearDiscriminantAnalysis()\n",
    "\n",
    "print(clf.predict([[5.0, 3.5]]))"
   ]
  },
  {
   "cell_type": "markdown",
   "metadata": {},
   "source": [
    "## Fisher's classifier from scratch\n",
    "\n",
    "We can implement the Fisher's classifier calculating the mean values."
   ]
  },
  {
   "cell_type": "code",
   "execution_count": 8,
   "metadata": {},
   "outputs": [
    {
     "name": "stdout",
     "output_type": "stream",
     "text": [
      "y_pred:  [5.74445884 5.85613937 5.81146716 5.83380326 5.72212273 5.65511441\n",
      " 5.76679494 5.76679494 5.87847547 5.83380326 5.69978662 5.76679494\n",
      " 5.85613937 5.85613937 5.63277831 5.54343388 5.65511441 5.74445884\n",
      " 5.67745052 5.67745052 5.76679494 5.69978662 5.72212273 5.78913105\n",
      " 5.76679494 5.85613937 5.76679494 5.74445884 5.76679494 5.81146716\n",
      " 5.83380326 5.76679494 5.6104422  5.58810609 5.83380326 5.81146716\n",
      " 5.74445884 5.72212273 5.85613937 5.76679494 5.74445884 6.01249211\n",
      " 5.81146716 5.74445884 5.67745052 5.85613937 5.67745052 5.81146716\n",
      " 5.69978662 5.78913105 5.81146716 5.81146716 5.83380326 6.01249211\n",
      " 5.90081158 5.90081158 5.78913105 5.990156   5.87847547 5.92314769\n",
      " 6.07950043 5.85613937 6.03482822 5.87847547 5.87847547 5.83380326\n",
      " 5.85613937 5.92314769 6.03482822 5.9678199  5.81146716 5.90081158\n",
      " 5.9678199  5.90081158 5.87847547 5.85613937 5.90081158 5.85613937\n",
      " 5.87847547 5.94548379 5.990156   5.990156   5.92314769 5.92314769\n",
      " 5.85613937 5.76679494 5.83380326 6.01249211 5.85613937 5.9678199\n",
      " 5.94548379 5.85613937 5.94548379 6.01249211 5.92314769 5.85613937\n",
      " 5.87847547 5.87847547 5.9678199  5.90081158 5.78913105 5.92314769\n",
      " 5.85613937 5.87847547 5.85613937 5.85613937 5.9678199  5.87847547\n",
      " 5.9678199  5.72212273 5.81146716 5.92314769 5.85613937 5.9678199\n",
      " 5.90081158 5.81146716 5.85613937 5.67745052 5.94548379 6.03482822\n",
      " 5.81146716 5.90081158 5.90081158 5.92314769 5.78913105 5.81146716\n",
      " 5.90081158 5.85613937 5.90081158 5.85613937 5.90081158 5.67745052\n",
      " 5.90081158 5.90081158 5.94548379 5.85613937 5.76679494 5.83380326\n",
      " 5.85613937 5.83380326 5.83380326 5.83380326 5.92314769 5.81146716\n",
      " 5.78913105 5.85613937 5.9678199  5.85613937 5.76679494 5.85613937]\n"
     ]
    },
    {
     "data": {
      "text/plain": [
       "<matplotlib.collections.PathCollection at 0x1d47e548370>"
      ]
     },
     "execution_count": 8,
     "metadata": {},
     "output_type": "execute_result"
    },
    {
     "data": {
      "image/png": "[encoded data removed]",
      "text/plain": [
       "<Figure size 640x480 with 1 Axes>"
      ]
     },
     "metadata": {},
     "output_type": "display_data"
    }
   ],
   "source": [
    "x = iris_df['sepal width (cm)'].values\n",
    "y = iris_df['sepal length (cm)'].values\n",
    "\n",
    "dataset_size = np.size(x)\n",
    "\n",
    "mean_x, mean_y = np.mean(x), np.mean(y)\n",
    "\n",
    "SS_xy = np.sum(y * x) - dataset_size * mean_y * mean_x\n",
    "SS_xx = np.sum(x * x) - dataset_size * mean_x * mean_x\n",
    "\n",
    "a = SS_xy / SS_xx\n",
    "b = mean_y - a * mean_x\n",
    "\n",
    "\n",
    "y_pred = a * x + b\n",
    "print(\"y_pred: \", y_pred)\n",
    "plt.scatter(x, y, color='blue', label='Data points')"
   ]
  }
 ],
 "metadata": {
  "kernelspec": {
   "display_name": "Python 3",
   "language": "python",
   "name": "python3"
  },
  "language_info": {
   "codemirror_mode": {
    "name": "ipython",
    "version": 3
   },
   "file_extension": ".py",
   "mimetype": "text/x-python",
   "name": "python",
   "nbconvert_exporter": "python",
   "pygments_lexer": "ipython3",
   "version": "3.10.0"
  }
 },
 "nbformat": 4,
 "nbformat_minor": 4
}
