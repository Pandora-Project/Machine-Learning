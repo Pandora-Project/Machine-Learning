{
 "cells": [
  {
   "cell_type": "markdown",
   "metadata": {},
   "source": [
    "# Exercises\n",
    "\n",
    "There are three exercises in this notebook:\n",
    "\n",
    "1. Use the cross-validation method to test the linear regression with different $\\alpha$ values, at least three.\n",
    "2. Implement a SGD method that will train the Lasso regression for 10 epochs.\n",
    "3. Extend the Fisher's classifier to work with two features. Use the class as the $y$."
   ]
  },
  {
   "cell_type": "code",
   "execution_count": 2,
   "metadata": {},
   "outputs": [],
   "source": [
    "import numpy as np\n"
   ]
  },
  {
   "cell_type": "markdown",
   "metadata": {},
   "source": [
    "## 1. Cross-validation linear regression\n",
    "\n",
    "You need to change the variable ``alpha`` to be a list of alphas. Next do a loop and finally compare the results."
   ]
  },
  {
   "cell_type": "code",
   "execution_count": 3,
   "metadata": {},
   "outputs": [
    {
     "name": "stdout",
     "output_type": "stream",
     "text": [
      "Alpha: 0.01, Weights: [[-167.85534019    1.54416013]], MSE: 373.7938\n",
      "Alpha: 0.1, Weights: [[-101.72397081    1.16978757]], MSE: 426.0451\n",
      "Alpha: 1.0, Weights: [[-20.59044706   0.71048616]], MSE: 592.4636\n"
     ]
    }
   ],
   "source": [
    "x = np.array([188, 181, 197, 168, 167, 187, 178, 194, 140, 176, 168, 192, 173, 142, 176]).reshape(-1, 1)\n",
    "y = np.array([141, 106, 149, 59, 79, 136, 65, 136, 52, 87, 115, 140, 82, 69, 121]).reshape(-1, 1)\n",
    "\n",
    "x = np.asmatrix(np.c_[np.ones((15,1)), x])\n",
    "\n",
    "I = np.identity(2)\n",
    "alphas = [0.01, 0.1, 1.0]  # Zmiana α na listę\n",
    "weights = []\n",
    "mse_values = []\n",
    "\n",
    "for alpha in alphas:\n",
    "    w = np.linalg.inv(x.T * x + alpha * I) * x.T * y\n",
    "    w = w.ravel()\n",
    "    weights.append(w)\n",
    "    y_pred = x * np.matrix(w).T\n",
    "    mse = np.mean(np.square(y - y_pred))\n",
    "    mse_values.append(mse)\n",
    "    print(f\"Alpha: {alpha}, Weights: {w}, MSE: {mse:.4f}\")"
   ]
  },
  {
   "cell_type": "markdown",
   "metadata": {},
   "source": [
    "## 2. Implement based on the Ridge regression example, the Lasso regression.\n",
    "\n",
    "Please implement the SGD method and compare the results with the sklearn Lasso regression results. "
   ]
  },
  {
   "cell_type": "code",
   "execution_count": 4,
   "metadata": {},
   "outputs": [
    {
     "name": "stdout",
     "output_type": "stream",
     "text": [
      "Wagi z SGD (Lasso): [0.00019717 0.0356383 ]\n"
     ]
    }
   ],
   "source": [
    "def sgd(X, y, alpha=0.1, learning_rate=0.0001, epochs=10):\n",
    "    np.random.seed(42)\n",
    "    w = np.zeros((X.shape[1], 1))\n",
    "    n_samples = X.shape[0]\n",
    "    \n",
    "    X = np.asarray(X)\n",
    "    y = np.asarray(y)\n",
    "    \n",
    "    for epoch in range(epochs):\n",
    "        indices = np.random.permutation(n_samples)\n",
    "        X_shuffled = X[indices]\n",
    "        y_shuffled = y[indices]\n",
    "        \n",
    "        for i in range(n_samples):\n",
    "            xi = X_shuffled[i:i+1]\n",
    "            yi = y_shuffled[i:i+1]\n",
    "            \n",
    "            y_pred = np.dot(xi, w)\n",
    "            grad_mse = -2 * xi.T.dot(yi - y_pred) / n_samples\n",
    "            grad_l1 = alpha * np.sign(w)  # Regularyzacja L1\n",
    "            w = w - learning_rate * (grad_mse + grad_l1)\n",
    "    \n",
    "    return w\n",
    "\n",
    "# Testowanie\n",
    "w_sgd = sgd(x, y, alpha=0.1, learning_rate=0.0000001, epochs=10)\n",
    "print(\"Wagi z SGD (Lasso):\", w_sgd.ravel())"
   ]
  },
  {
   "cell_type": "code",
   "execution_count": 5,
   "metadata": {},
   "outputs": [],
   "source": [
    "x = np.array([188, 181, 197, 168, 167, 187, 178, 194, 140, 176, 168, 192, 173, 142, 176]).reshape(-1, 1).reshape(15,1)\n",
    "y = np.array([141, 106, 149, 59, 79, 136, 65, 136, 52, 87, 115, 140, 82, 69, 121]).reshape(-1, 1).reshape(15,1)\n",
    "\n",
    "x = np.asmatrix(np.c_[np.ones((15,1)),x])\n",
    "\n",
    "I = np.identity(2)\n",
    "alpha = 0.1 \n",
    "\n",
    "\n",
    "w = np.linalg.inv(x.T*x + alpha * I)*x.T*y # update this line\n",
    "w=w.ravel()\n"
   ]
  },
  {
   "cell_type": "markdown",
   "metadata": {},
   "source": [
    "## 3. Extend the Fisher's classifier\n",
    "\n",
    "Please extend the targets of the ``iris_data`` variable and use it as the $y$."
   ]
  },
  {
   "cell_type": "code",
   "execution_count": 52,
   "metadata": {},
   "outputs": [
    {
     "name": "stdout",
     "output_type": "stream",
     "text": [
      "y_pred:  [-0.39350442  0.00745742 -0.19696971 -0.02869256 -0.47369679 -0.58214672\n",
      " -0.31331205 -0.26926966  0.08764979 -0.02869256 -0.50984676 -0.22522727\n",
      "  0.00745742 -0.12466975 -0.88255103 -1.07119334 -0.75831628 -0.39350442\n",
      " -0.50195435 -0.59003913 -0.18118488 -0.50984676 -0.64986634 -0.10099252\n",
      " -0.0931001   0.0955422  -0.22522727 -0.34946203 -0.31331205 -0.06484254\n",
      "  0.01534983 -0.26926966 -0.83061623 -0.95485099 -0.02869256 -0.24101209\n",
      " -0.43754681 -0.47369679 -0.03658497 -0.26926966 -0.43754681  0.5247616\n",
      " -0.19696971 -0.30541964 -0.41386957  0.00745742 -0.54599674 -0.15292732\n",
      " -0.50984676 -0.23311968  1.30047153  1.21238675  1.46874867  1.71390611\n",
      "  1.57719861  1.53315622  1.22027916  1.32541702  1.49700624  1.34909425\n",
      "  1.73427127  1.24064432  1.79409848  1.54104863  1.05658235  1.24853673\n",
      "  1.37277149  1.43717903  2.01431043  1.50947899  1.34451392  1.31294427\n",
      "  1.94990288  1.621241    1.36487907  1.3287291   1.66528339  1.59298343\n",
      "  1.45296385  1.25311706  1.54562897  1.50158658  1.34909425  1.87760292\n",
      "  1.37277149  1.05200202  1.3806639   1.89007567  1.19660193  1.55352138\n",
      "  1.64949857  1.41681387  1.47332901  1.40560939  1.48122142  1.24064432\n",
      "  1.32083669  1.36487907  1.11309748  1.35698666  1.79283022  1.87760292\n",
      "  1.98936493  1.93743013  1.94532255  2.29766166  1.77373332  2.24572686\n",
      "  2.34628438  1.59629551  1.47664109  1.9656877   1.81319538  1.99394527\n",
      "  1.79741056  1.56472586  1.81319538  1.70016511  2.7505583   2.23452237\n",
      "  1.74089542  1.70932578  2.50208878  1.78951814  1.66070305  1.87302259\n",
      "  1.66528339  1.54894104  2.0176225   1.94532255  2.23783445  1.56803794\n",
      "  2.0176225   1.79741056  2.17800724  2.07744971  1.5364683   1.73300301\n",
      "  1.50489865  1.68896062  1.7770454   1.55683345  1.87760292  1.8289802\n",
      "  1.66070305  1.68106821  1.99394527  1.68106821  1.44838352  1.63702582]\n"
     ]
    },
    {
     "data": {
      "image/png": "[encoded data removed]",
      "text/plain": [
       "<Figure size 640x480 with 1 Axes>"
      ]
     },
     "metadata": {},
     "output_type": "display_data"
    }
   ],
   "source": [
    "import pandas as pd\n",
    "import numpy as np\n",
    "import matplotlib.pyplot as plt\n",
    "from sklearn.datasets import load_iris\n",
    "\n",
    "# Load the Iris dataset\n",
    "iris_data = load_iris()\n",
    "iris_df = pd.DataFrame(iris_data.data, columns=iris_data.feature_names)\n",
    "iris_df.head()\n",
    "\n",
    "iris_df['target'] = iris_data.target\n",
    "# Select two features: 'sepal width (cm)' and 'petal length (cm)'\n",
    "x = iris_df[['sepal width (cm)', 'petal length (cm)']].values\n",
    "y = iris_df['target'].values\n",
    "\n",
    "# Calculate dataset size\n",
    "dataset_size = np.size(y)\n",
    "\n",
    "# Compute means of x and y\n",
    "mean_x = np.mean(x, axis=0)\n",
    "mean_y = np.mean(y)\n",
    "\n",
    "# Calculate sum of squares\n",
    "SS_xy = np.sum(y[:, np.newaxis] * x, axis=0) - dataset_size * mean_y * mean_x\n",
    "SS_xx = np.sum(x**2, axis=0) - dataset_size * mean_x**2\n",
    "\n",
    "# Compute slope and intercept for each feature\n",
    "a = SS_xy / SS_xx\n",
    "b = mean_y - np.dot(a, mean_x)\n",
    "\n",
    "# Predict y values\n",
    "y_pred = np.dot(x, a) + b\n",
    "\n",
    "# Print predicted values\n",
    "print(\"y_pred: \", y_pred)\n",
    "\n",
    "# Plot the data points\n",
    "plt.scatter(x[:, 0], y_pred, color='red', label=\"Data points\")\n",
    "plt.xlabel('Sepal Width (cm)')\n",
    "plt.ylabel('Petal Length (cm)')\n",
    "plt.legend()\n",
    "plt.show()"
   ]
  }
 ],
 "metadata": {
  "kernelspec": {
   "display_name": "Python 3",
   "language": "python",
   "name": "python3"
  },
  "language_info": {
   "codemirror_mode": {
    "name": "ipython",
    "version": 3
   },
   "file_extension": ".py",
   "mimetype": "text/x-python",
   "name": "python",
   "nbconvert_exporter": "python",
   "pygments_lexer": "ipython3",
   "version": "3.10.0"
  }
 },
 "nbformat": 4,
 "nbformat_minor": 4
}
